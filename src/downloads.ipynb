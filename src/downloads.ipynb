{
 "cells": [
  {
   "cell_type": "markdown",
   "id": "71890f5d",
   "metadata": {},
   "source": [
    "**Ironhack Final Project**\n",
    "\n",
    "---\n",
    "\n",
    "**Notebook 00 - downloads**\n",
    "\n",
    "---"
   ]
  },
  {
   "cell_type": "markdown",
   "id": "86bcbbc3",
   "metadata": {},
   "source": [
    "**Libraries**"
   ]
  },
  {
   "cell_type": "code",
   "execution_count": 1,
   "id": "aaf2d5cd",
   "metadata": {},
   "outputs": [],
   "source": [
    "import pandas as pd\n",
    "import numpy as np\n",
    "import requests\n",
    "from bs4 import BeautifulSoup\n",
    "import tools.download as dwn\n",
    "import os\n",
    "import glob"
   ]
  },
  {
   "cell_type": "markdown",
   "id": "122e525d",
   "metadata": {},
   "source": [
    "# Downloading data"
   ]
  },
  {
   "cell_type": "markdown",
   "id": "17808173",
   "metadata": {},
   "source": [
    "## Barcelona"
   ]
  },
  {
   "cell_type": "markdown",
   "id": "fe9014e3",
   "metadata": {},
   "source": [
    "### PM2"
   ]
  },
  {
   "cell_type": "markdown",
   "id": "53e71262",
   "metadata": {},
   "source": [
    "Air quality data downloaded from the European Environment Agency. Settings:\n",
    "- Country: ES Spain\n",
    "- City name: Barcelona\n",
    "- Pollutant: PM2.5\n",
    "- Year from: 2013\n",
    "- Year to: 2022\n",
    "- Source: All\n",
    "- Output type: HTML\n",
    "- Update date: *empty*\n",
    "- Time coverage: Year"
   ]
  },
  {
   "cell_type": "code",
   "execution_count": 7,
   "id": "a02672c4",
   "metadata": {},
   "outputs": [],
   "source": [
    "# Create list of links to download (csv files)\n",
    "url = 'https://fme.discomap.eea.europa.eu/fmedatastreaming/AirQualityDownload/AQData_Extract.fmw?CountryCode=ES&CityName=Barcelona&Pollutant=6001&Year_from=2013&Year_to=2022&Station=&Samplingpoint=&Source=All&Output=HTML&UpdateDate=&TimeCoverage=Year'\n",
    "barcelona_EEA_pm2 = dwn.get_list_htmls_EEA (url)"
   ]
  },
  {
   "cell_type": "code",
   "execution_count": 8,
   "id": "9c28cb8c",
   "metadata": {},
   "outputs": [
    {
     "data": {
      "text/plain": [
       "['https://ereporting.blob.core.windows.net/downloadservice/ES_6001_15256_2013_timeseries.csv',\n",
       " 'https://ereporting.blob.core.windows.net/downloadservice/ES_6001_11907_2013_timeseries.csv']"
      ]
     },
     "execution_count": 8,
     "metadata": {},
     "output_type": "execute_result"
    }
   ],
   "source": [
    "barcelona_EEA_pm2[:2]"
   ]
  },
  {
   "cell_type": "code",
   "execution_count": 10,
   "id": "0ba8a2bb",
   "metadata": {},
   "outputs": [
    {
     "data": {
      "text/plain": [
       "'files saved successfully!'"
      ]
     },
     "execution_count": 10,
     "metadata": {},
     "output_type": "execute_result"
    }
   ],
   "source": [
    "# Save into directory\n",
    "dwn.save_into_dir_EEA('./Barcelona/PM2', barcelona_EEA_pm2)"
   ]
  },
  {
   "cell_type": "code",
   "execution_count": 11,
   "id": "7259471d",
   "metadata": {},
   "outputs": [
    {
     "data": {
      "text/plain": [
       "'files combined successfully!'"
      ]
     },
     "execution_count": 11,
     "metadata": {},
     "output_type": "execute_result"
    }
   ],
   "source": [
    "# Concatenate files\n",
    "dwn.concatenate_csv('./Barcelona/PM2', 'barcelona_combined_pm2.csv')"
   ]
  },
  {
   "cell_type": "markdown",
   "id": "d97affdc",
   "metadata": {},
   "source": [
    "### PM10"
   ]
  },
  {
   "cell_type": "code",
   "execution_count": 12,
   "id": "365efd9d",
   "metadata": {},
   "outputs": [],
   "source": [
    "url = 'https://fme.discomap.eea.europa.eu/fmedatastreaming/AirQualityDownload/AQData_Extract.fmw?CountryCode=ES&CityName=Barcelona&Pollutant=5&Year_from=2013&Year_to=2022&Station=&Samplingpoint=&Source=E1a&Output=HTML&UpdateDate=&TimeCoverage=Year'\n",
    "barcelona_EEA_PM10 = dwn.get_list_htmls_EEA (url)"
   ]
  },
  {
   "cell_type": "code",
   "execution_count": 13,
   "id": "c7b5f0fc",
   "metadata": {},
   "outputs": [
    {
     "data": {
      "text/plain": [
       "'files saved successfully!'"
      ]
     },
     "execution_count": 13,
     "metadata": {},
     "output_type": "execute_result"
    }
   ],
   "source": [
    "# Save into directory\n",
    "dwn.save_into_dir_EEA('./Barcelona/PM10', barcelona_EEA_PM10)"
   ]
  },
  {
   "cell_type": "code",
   "execution_count": 15,
   "id": "ebee7f79",
   "metadata": {},
   "outputs": [
    {
     "data": {
      "text/plain": [
       "'files combined successfully!'"
      ]
     },
     "execution_count": 15,
     "metadata": {},
     "output_type": "execute_result"
    }
   ],
   "source": [
    "# Concatenate files\n",
    "dwn.concatenate_csv('./Barcelona/PM10', 'barcelona_combined_pm10.csv')"
   ]
  },
  {
   "cell_type": "markdown",
   "id": "53b64835",
   "metadata": {},
   "source": [
    "### CO"
   ]
  },
  {
   "cell_type": "code",
   "execution_count": 16,
   "id": "2fabd892",
   "metadata": {},
   "outputs": [],
   "source": [
    "url = 'https://fme.discomap.eea.europa.eu/fmedatastreaming/AirQualityDownload/AQData_Extract.fmw?CountryCode=ES&CityName=Barcelona&Pollutant=10&Year_from=2013&Year_to=2022&Station=&Samplingpoint=&Source=E1a&Output=HTML&UpdateDate=&TimeCoverage=Year'\n",
    "barcelona_EEA_CO = dwn.get_list_htmls_EEA (url)"
   ]
  },
  {
   "cell_type": "code",
   "execution_count": 17,
   "id": "e6a340cc",
   "metadata": {},
   "outputs": [
    {
     "data": {
      "text/plain": [
       "'files saved successfully!'"
      ]
     },
     "execution_count": 17,
     "metadata": {},
     "output_type": "execute_result"
    }
   ],
   "source": [
    "# Save into directory\n",
    "dwn.save_into_dir_EEA('./Barcelona/CO', barcelona_EEA_CO)"
   ]
  },
  {
   "cell_type": "code",
   "execution_count": 18,
   "id": "57e5ae6f",
   "metadata": {},
   "outputs": [
    {
     "data": {
      "text/plain": [
       "'files combined successfully!'"
      ]
     },
     "execution_count": 18,
     "metadata": {},
     "output_type": "execute_result"
    }
   ],
   "source": [
    "# Concatenate files\n",
    "dwn.concatenate_csv('./Barcelona/CO', 'barcelona_combined_co.csv')"
   ]
  },
  {
   "cell_type": "markdown",
   "id": "b4affd3c",
   "metadata": {},
   "source": [
    "# Automating the download of PM10 data for all European capitals"
   ]
  },
  {
   "cell_type": "code",
   "execution_count": 2,
   "id": "275706b0",
   "metadata": {},
   "outputs": [],
   "source": [
    "dict_cities = {'ES':'Madrid','BG':'Sofia','GB':'London','AT':'Wien','CH':'Bern','CZ':'Praha','DE':'Berlin','DK':'København','FR':'Paris','GR':'Athina','HR':'Zagreb','HU':'Budapest','IE':'Dublin','IS':'Reykjavík','IT':'Roma','LT':'Vilnius','LU':'Luxembourg','LV':'Riga','MT':'Valletta','NL':'Amsterdam','NO':'Oslo','PL':'Warszawa','PT':'Lisboa','RO':'Bucuresti','SE':'Stockholm','SI':'Ljubljana','SK':'Bratislava', 'EE':'Tallinn'}"
   ]
  },
  {
   "cell_type": "code",
   "execution_count": 3,
   "id": "92a24852",
   "metadata": {},
   "outputs": [
    {
     "data": {
      "text/plain": [
       "'files downloaded and combined successfully!'"
      ]
     },
     "execution_count": 3,
     "metadata": {},
     "output_type": "execute_result"
    }
   ],
   "source": [
    "dwn.automate_download_pm10(dict_cities)"
   ]
  },
  {
   "cell_type": "markdown",
   "id": "162ddc5d",
   "metadata": {},
   "source": [
    "**Missed capitals due to not present in the database (empty field):**"
   ]
  },
  {
   "cell_type": "code",
   "execution_count": 2,
   "id": "01679678",
   "metadata": {},
   "outputs": [],
   "source": [
    "dict_cities_missed = {'AD':'Andorra','AL':'Albania','BA':'Bosnia and Herzegovina','CY': 'Cypern','GI':'Gibraltar','ME':'Montenegro','RS':'Serbia','TR':'Turkey','XK':'Kosovo'}"
   ]
  },
  {
   "cell_type": "code",
   "execution_count": null,
   "id": "7f6308c5",
   "metadata": {},
   "outputs": [
    {
     "name": "stdout",
     "output_type": "stream",
     "text": [
      "An error ocurred during the download of PM10 from Turkey\n"
     ]
    }
   ],
   "source": [
    "dwn.automate_download_pm10_nocapital(dict_cities_missed)"
   ]
  },
  {
   "cell_type": "markdown",
   "id": "7654f833",
   "metadata": {},
   "source": [
    "*Turky had more than 3GB of data, I skip it*"
   ]
  },
  {
   "cell_type": "code",
   "execution_count": 3,
   "id": "eccfa8ea",
   "metadata": {},
   "outputs": [],
   "source": [
    "dict_cities_missed = {'XK':'Kosovo'}"
   ]
  },
  {
   "cell_type": "code",
   "execution_count": 4,
   "id": "312f8df7",
   "metadata": {},
   "outputs": [
    {
     "data": {
      "text/plain": [
       "'files downloaded and combined successfully!'"
      ]
     },
     "execution_count": 4,
     "metadata": {},
     "output_type": "execute_result"
    }
   ],
   "source": [
    "dwn.automate_download_pm10_nocapital(dict_cities_missed)"
   ]
  },
  {
   "cell_type": "markdown",
   "id": "5e25c384",
   "metadata": {},
   "source": [
    "**Two exceptional cases due to the name:**"
   ]
  },
  {
   "cell_type": "code",
   "execution_count": 19,
   "id": "5c264b77",
   "metadata": {},
   "outputs": [
    {
     "data": {
      "text/plain": [
       "'files combined successfully!'"
      ]
     },
     "execution_count": 19,
     "metadata": {},
     "output_type": "execute_result"
    }
   ],
   "source": [
    "# Bruxelles / Brussel\n",
    "url = 'https://fme.discomap.eea.europa.eu/fmedatastreaming/AirQualityDownload/AQData_Extract.fmw?CountryCode=BE&CityName=Bruxelles / Brussel&Pollutant=5&Year_from=2013&Year_to=2022&Station=&Samplingpoint=&Source=E1a&Output=HTML&UpdateDate=&TimeCoverage=Year'\n",
    "bruxelles_EEA_PM10 = dwn.get_list_htmls_EEA (url)\n",
    "dwn.save_into_dir_EEA('./Bruxelles', bruxelles_EEA_PM10)\n",
    "dwn.concatenate_csv('./Bruxelles', 'bruxelles_combined_pm10.csv')"
   ]
  },
  {
   "cell_type": "code",
   "execution_count": 20,
   "id": "9a085f3a",
   "metadata": {},
   "outputs": [
    {
     "data": {
      "text/plain": [
       "'files combined successfully!'"
      ]
     },
     "execution_count": 20,
     "metadata": {},
     "output_type": "execute_result"
    }
   ],
   "source": [
    "# Helsinki / Helsingfors\n",
    "url = 'https://fme.discomap.eea.europa.eu/fmedatastreaming/AirQualityDownload/AQData_Extract.fmw?CountryCode=FI&CityName=Helsinki / Helsingfors&Pollutant=5&Year_from=2013&Year_to=2022&Station=&Samplingpoint=&Source=E1a&Output=HTML&UpdateDate=&TimeCoverage=Year'\n",
    "helsinki_EEA_PM10 = dwn.get_list_htmls_EEA (url)\n",
    "dwn.save_into_dir_EEA('./Helsinki', helsinki_EEA_PM10)\n",
    "dwn.concatenate_csv('./Helsinki', 'helsinki_combined_pm10.csv')"
   ]
  }
 ],
 "metadata": {
  "kernelspec": {
   "display_name": "Python 3 (ipykernel)",
   "language": "python",
   "name": "python3"
  },
  "language_info": {
   "codemirror_mode": {
    "name": "ipython",
    "version": 3
   },
   "file_extension": ".py",
   "mimetype": "text/x-python",
   "name": "python",
   "nbconvert_exporter": "python",
   "pygments_lexer": "ipython3",
   "version": "3.9.13"
  },
  "toc": {
   "base_numbering": 1,
   "nav_menu": {},
   "number_sections": true,
   "sideBar": true,
   "skip_h1_title": false,
   "title_cell": "Table of Contents",
   "title_sidebar": "Contents",
   "toc_cell": false,
   "toc_position": {},
   "toc_section_display": true,
   "toc_window_display": false
  }
 },
 "nbformat": 4,
 "nbformat_minor": 5
}
