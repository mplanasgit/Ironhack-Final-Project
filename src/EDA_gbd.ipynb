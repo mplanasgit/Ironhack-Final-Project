{
 "cells": [
  {
   "cell_type": "markdown",
   "id": "7f9fd72f",
   "metadata": {},
   "source": [
    "**Ironhack Final Project**\n",
    "\n",
    "---\n",
    "\n",
    "**Notebook 01 - EDA for GBD19 data**\n",
    "\n",
    "---"
   ]
  },
  {
   "cell_type": "markdown",
   "id": "bb43336c",
   "metadata": {},
   "source": [
    "**Libraries**"
   ]
  },
  {
   "cell_type": "code",
   "execution_count": 1,
   "id": "691d5e0d",
   "metadata": {},
   "outputs": [],
   "source": [
    "import pandas as pd\n",
    "import numpy as np\n",
    "import seaborn as sns\n",
    "import matplotlib.pyplot as plt\n",
    "\n",
    "#maps\n",
    "import folium\n",
    "from folium import Choropleth, Circle, Marker, Icon, Map, TileLayer\n",
    "import json\n",
    "\n",
    "# Visualization mantra\n",
    "%matplotlib inline\n",
    "%config Inlinebackend.figure_format = 'retina'\n",
    "sns.set_context('poster')\n",
    "sns.set(rc={'figure.figsize': (10, 5)})\n",
    "sns.set_style('whitegrid')\n",
    "# sns.set_style(\"whitegrid\", {'axes.grid' : False})"
   ]
  },
  {
   "cell_type": "markdown",
   "id": "ed718ebf",
   "metadata": {},
   "source": [
    "---"
   ]
  },
  {
   "cell_type": "markdown",
   "id": "69f573e2",
   "metadata": {},
   "source": [
    "**GBD19: Number of deaths caused by Breast cancer and COPD in Europe (1990-2019)**"
   ]
  },
  {
   "cell_type": "code",
   "execution_count": 2,
   "id": "c0a61b58",
   "metadata": {},
   "outputs": [],
   "source": [
    "disease = pd.read_csv('../data/GBD19/disease/IHME-GBD_2019_DATA-COPD-BREASTCANCER.csv') # No missing values"
   ]
  },
  {
   "cell_type": "code",
   "execution_count": 3,
   "id": "b110b9b9",
   "metadata": {},
   "outputs": [],
   "source": [
    "disease = disease[['location_name','cause_name','metric_name','year','val','upper','lower']] # Subset"
   ]
  },
  {
   "cell_type": "code",
   "execution_count": 4,
   "id": "b3b52c4b",
   "metadata": {},
   "outputs": [
    {
     "data": {
      "text/html": [
       "<div>\n",
       "<style scoped>\n",
       "    .dataframe tbody tr th:only-of-type {\n",
       "        vertical-align: middle;\n",
       "    }\n",
       "\n",
       "    .dataframe tbody tr th {\n",
       "        vertical-align: top;\n",
       "    }\n",
       "\n",
       "    .dataframe thead th {\n",
       "        text-align: right;\n",
       "    }\n",
       "</style>\n",
       "<table border=\"1\" class=\"dataframe\">\n",
       "  <thead>\n",
       "    <tr style=\"text-align: right;\">\n",
       "      <th></th>\n",
       "      <th>location_name</th>\n",
       "      <th>cause_name</th>\n",
       "      <th>metric_name</th>\n",
       "      <th>year</th>\n",
       "      <th>val</th>\n",
       "      <th>upper</th>\n",
       "      <th>lower</th>\n",
       "    </tr>\n",
       "  </thead>\n",
       "  <tbody>\n",
       "    <tr>\n",
       "      <th>0</th>\n",
       "      <td>Greece</td>\n",
       "      <td>Breast cancer</td>\n",
       "      <td>Number</td>\n",
       "      <td>1990</td>\n",
       "      <td>1806.747677</td>\n",
       "      <td>1884.954022</td>\n",
       "      <td>1711.507788</td>\n",
       "    </tr>\n",
       "    <tr>\n",
       "      <th>1</th>\n",
       "      <td>Greece</td>\n",
       "      <td>Breast cancer</td>\n",
       "      <td>Percent</td>\n",
       "      <td>1990</td>\n",
       "      <td>0.019742</td>\n",
       "      <td>0.020573</td>\n",
       "      <td>0.018728</td>\n",
       "    </tr>\n",
       "    <tr>\n",
       "      <th>2</th>\n",
       "      <td>Greece</td>\n",
       "      <td>Breast cancer</td>\n",
       "      <td>Rate</td>\n",
       "      <td>1990</td>\n",
       "      <td>17.390057</td>\n",
       "      <td>18.142798</td>\n",
       "      <td>16.473367</td>\n",
       "    </tr>\n",
       "    <tr>\n",
       "      <th>3</th>\n",
       "      <td>Ireland</td>\n",
       "      <td>Chronic obstructive pulmonary disease</td>\n",
       "      <td>Number</td>\n",
       "      <td>1990</td>\n",
       "      <td>2051.763615</td>\n",
       "      <td>2174.328734</td>\n",
       "      <td>1795.266532</td>\n",
       "    </tr>\n",
       "    <tr>\n",
       "      <th>4</th>\n",
       "      <td>Ireland</td>\n",
       "      <td>Chronic obstructive pulmonary disease</td>\n",
       "      <td>Percent</td>\n",
       "      <td>1990</td>\n",
       "      <td>0.066673</td>\n",
       "      <td>0.070520</td>\n",
       "      <td>0.058262</td>\n",
       "    </tr>\n",
       "    <tr>\n",
       "      <th>...</th>\n",
       "      <td>...</td>\n",
       "      <td>...</td>\n",
       "      <td>...</td>\n",
       "      <td>...</td>\n",
       "      <td>...</td>\n",
       "      <td>...</td>\n",
       "      <td>...</td>\n",
       "    </tr>\n",
       "    <tr>\n",
       "      <th>8635</th>\n",
       "      <td>Russian Federation</td>\n",
       "      <td>Chronic obstructive pulmonary disease</td>\n",
       "      <td>Percent</td>\n",
       "      <td>2019</td>\n",
       "      <td>0.020399</td>\n",
       "      <td>0.023369</td>\n",
       "      <td>0.018876</td>\n",
       "    </tr>\n",
       "    <tr>\n",
       "      <th>8636</th>\n",
       "      <td>Russian Federation</td>\n",
       "      <td>Chronic obstructive pulmonary disease</td>\n",
       "      <td>Rate</td>\n",
       "      <td>2019</td>\n",
       "      <td>24.866274</td>\n",
       "      <td>29.408529</td>\n",
       "      <td>21.267198</td>\n",
       "    </tr>\n",
       "    <tr>\n",
       "      <th>8637</th>\n",
       "      <td>Monaco</td>\n",
       "      <td>Chronic obstructive pulmonary disease</td>\n",
       "      <td>Number</td>\n",
       "      <td>2019</td>\n",
       "      <td>16.341988</td>\n",
       "      <td>19.215555</td>\n",
       "      <td>13.200340</td>\n",
       "    </tr>\n",
       "    <tr>\n",
       "      <th>8638</th>\n",
       "      <td>Monaco</td>\n",
       "      <td>Chronic obstructive pulmonary disease</td>\n",
       "      <td>Percent</td>\n",
       "      <td>2019</td>\n",
       "      <td>0.031227</td>\n",
       "      <td>0.035806</td>\n",
       "      <td>0.025815</td>\n",
       "    </tr>\n",
       "    <tr>\n",
       "      <th>8639</th>\n",
       "      <td>Monaco</td>\n",
       "      <td>Chronic obstructive pulmonary disease</td>\n",
       "      <td>Rate</td>\n",
       "      <td>2019</td>\n",
       "      <td>43.494985</td>\n",
       "      <td>51.143123</td>\n",
       "      <td>35.133338</td>\n",
       "    </tr>\n",
       "  </tbody>\n",
       "</table>\n",
       "<p>8640 rows × 7 columns</p>\n",
       "</div>"
      ],
      "text/plain": [
       "           location_name                             cause_name metric_name  \\\n",
       "0                 Greece                          Breast cancer      Number   \n",
       "1                 Greece                          Breast cancer     Percent   \n",
       "2                 Greece                          Breast cancer        Rate   \n",
       "3                Ireland  Chronic obstructive pulmonary disease      Number   \n",
       "4                Ireland  Chronic obstructive pulmonary disease     Percent   \n",
       "...                  ...                                    ...         ...   \n",
       "8635  Russian Federation  Chronic obstructive pulmonary disease     Percent   \n",
       "8636  Russian Federation  Chronic obstructive pulmonary disease        Rate   \n",
       "8637              Monaco  Chronic obstructive pulmonary disease      Number   \n",
       "8638              Monaco  Chronic obstructive pulmonary disease     Percent   \n",
       "8639              Monaco  Chronic obstructive pulmonary disease        Rate   \n",
       "\n",
       "      year          val        upper        lower  \n",
       "0     1990  1806.747677  1884.954022  1711.507788  \n",
       "1     1990     0.019742     0.020573     0.018728  \n",
       "2     1990    17.390057    18.142798    16.473367  \n",
       "3     1990  2051.763615  2174.328734  1795.266532  \n",
       "4     1990     0.066673     0.070520     0.058262  \n",
       "...    ...          ...          ...          ...  \n",
       "8635  2019     0.020399     0.023369     0.018876  \n",
       "8636  2019    24.866274    29.408529    21.267198  \n",
       "8637  2019    16.341988    19.215555    13.200340  \n",
       "8638  2019     0.031227     0.035806     0.025815  \n",
       "8639  2019    43.494985    51.143123    35.133338  \n",
       "\n",
       "[8640 rows x 7 columns]"
      ]
     },
     "execution_count": 4,
     "metadata": {},
     "output_type": "execute_result"
    }
   ],
   "source": [
    "disease"
   ]
  },
  {
   "cell_type": "code",
   "execution_count": 5,
   "id": "1e4c37f2",
   "metadata": {},
   "outputs": [],
   "source": [
    "disease = disease.sort_values(by=['location_name','year','cause_name'], ascending = True) # Sort by country"
   ]
  },
  {
   "cell_type": "code",
   "execution_count": 6,
   "id": "1735e540",
   "metadata": {},
   "outputs": [],
   "source": [
    "disease['location_name'] = disease['location_name'].str.replace('Russian Federation','Russia')\n",
    "disease['location_name'] = disease['location_name'].str.replace('Bosnia and Herzegovina','Bosnia and Herz.')"
   ]
  },
  {
   "cell_type": "code",
   "execution_count": 33,
   "id": "0855bf73",
   "metadata": {},
   "outputs": [
    {
     "data": {
      "text/plain": [
       "(8640, 7)"
      ]
     },
     "execution_count": 33,
     "metadata": {},
     "output_type": "execute_result"
    }
   ],
   "source": [
    "disease.shape"
   ]
  },
  {
   "cell_type": "code",
   "execution_count": 34,
   "id": "e3ebee01",
   "metadata": {},
   "outputs": [],
   "source": [
    "disease = disease[disease['location_name']!='Russia']"
   ]
  },
  {
   "cell_type": "code",
   "execution_count": 36,
   "id": "b320b0f0",
   "metadata": {},
   "outputs": [
    {
     "data": {
      "text/plain": [
       "(8460, 7)"
      ]
     },
     "execution_count": 36,
     "metadata": {},
     "output_type": "execute_result"
    }
   ],
   "source": [
    "disease.shape"
   ]
  },
  {
   "cell_type": "code",
   "execution_count": 37,
   "id": "b41bcc2f",
   "metadata": {},
   "outputs": [],
   "source": [
    "disease.to_csv('../data/GBD19/disease/IHME-GBD_2019_DATA-COPD-BREASTCANCER_clean.csv', index = False)"
   ]
  },
  {
   "cell_type": "code",
   "execution_count": 38,
   "id": "8a1241ea",
   "metadata": {},
   "outputs": [],
   "source": [
    "condition_disease = (disease['cause_name'] == 'Chronic obstructive pulmonary disease')\n",
    "condition_metric = (disease['metric_name'] == 'Percent')\n",
    "condition_location = (disease['location_name'] == 'Eastern Europe') | (disease['location_name'] == 'Central Europe') | (disease['location_name'] == 'Western Europe') | (disease['location_name'] == 'India')\n",
    "disease_deaths_copd_global = disease[condition_disease & condition_metric & condition_location]"
   ]
  },
  {
   "cell_type": "code",
   "execution_count": 39,
   "id": "e55d9782",
   "metadata": {},
   "outputs": [
    {
     "data": {
      "image/png": "[encoded data removed]",
      "text/plain": [
       "<Figure size 1000x500 with 1 Axes>"
      ]
     },
     "metadata": {},
     "output_type": "display_data"
    }
   ],
   "source": [
    "sns.lineplot(x = 'year', y = 'val', data = disease_deaths_copd_global, hue = 'location_name');"
   ]
  },
  {
   "cell_type": "code",
   "execution_count": 40,
   "id": "a34c057c",
   "metadata": {},
   "outputs": [
    {
     "data": {
      "image/png": "[encoded data removed]",
      "text/plain": [
       "<Figure size 1000x500 with 1 Axes>"
      ]
     },
     "metadata": {},
     "output_type": "display_data"
    }
   ],
   "source": [
    "condition_disease = (disease['cause_name'] == 'Breast cancer')\n",
    "condition_metric = (disease['metric_name'] == 'Rate')\n",
    "condition_location = (disease['location_name'] == 'Eastern Europe') | (disease['location_name'] == 'Central Europe') | (disease['location_name'] == 'Western Europe') | (disease['location_name'] == 'India')\n",
    "disease_deaths_cancer_global = disease[condition_disease & condition_metric & condition_location]\n",
    "sns.lineplot(x = 'year', y = 'val', data = disease_deaths_cancer_global, hue = 'location_name');"
   ]
  },
  {
   "cell_type": "code",
   "execution_count": 41,
   "id": "d31e6337",
   "metadata": {},
   "outputs": [
    {
     "data": {
      "text/plain": [
       "array(['Albania', 'Andorra', 'Austria', 'Belarus', 'Belgium',\n",
       "       'Bosnia and Herz.', 'Bulgaria', 'Central Europe', 'Croatia',\n",
       "       'Cyprus', 'Czechia', 'Denmark', 'Eastern Europe', 'Estonia',\n",
       "       'Finland', 'France', 'Germany', 'Greece', 'Hungary', 'Iceland',\n",
       "       'India', 'Ireland', 'Israel', 'Italy', 'Latvia', 'Lithuania',\n",
       "       'Luxembourg', 'Malta', 'Monaco', 'Montenegro', 'Netherlands',\n",
       "       'North Macedonia', 'Norway', 'Poland', 'Portugal',\n",
       "       'Republic of Moldova', 'Romania', 'San Marino', 'Serbia',\n",
       "       'Slovakia', 'Slovenia', 'Spain', 'Sweden', 'Switzerland',\n",
       "       'Ukraine', 'United Kingdom', 'Western Europe'], dtype=object)"
      ]
     },
     "execution_count": 41,
     "metadata": {},
     "output_type": "execute_result"
    }
   ],
   "source": [
    "disease['location_name'].unique()"
   ]
  },
  {
   "cell_type": "markdown",
   "id": "37af5c61",
   "metadata": {},
   "source": [
    "**GBD19: PM in Europe (1990-2019)**"
   ]
  },
  {
   "cell_type": "code",
   "execution_count": 42,
   "id": "77e5bd82",
   "metadata": {},
   "outputs": [],
   "source": [
    "pm = pd.read_csv('../data/GBD19/pm/GBD_AIR_POLLUTION_1990_2019.csv') # No missing values"
   ]
  },
  {
   "cell_type": "code",
   "execution_count": 43,
   "id": "882c770f",
   "metadata": {},
   "outputs": [],
   "source": [
    "list_countries = disease['location_name'].unique()"
   ]
  },
  {
   "cell_type": "code",
   "execution_count": 44,
   "id": "3680e354",
   "metadata": {},
   "outputs": [],
   "source": [
    "pm = pm[pm['location_name'].isin(list_countries)] # subset countries"
   ]
  },
  {
   "cell_type": "code",
   "execution_count": 45,
   "id": "299f32b2",
   "metadata": {},
   "outputs": [],
   "source": [
    "pm = pm[['location_name','rei_name','year_id','mean','median','upper','lower']] # subset columns"
   ]
  },
  {
   "cell_type": "code",
   "execution_count": 46,
   "id": "90e2543f",
   "metadata": {},
   "outputs": [],
   "source": [
    "pm = pm.sort_values(by=['location_name','year_id']) # sort by country and year"
   ]
  },
  {
   "cell_type": "code",
   "execution_count": 47,
   "id": "c28d0c90",
   "metadata": {},
   "outputs": [
    {
     "data": {
      "text/html": [
       "<div>\n",
       "<style scoped>\n",
       "    .dataframe tbody tr th:only-of-type {\n",
       "        vertical-align: middle;\n",
       "    }\n",
       "\n",
       "    .dataframe tbody tr th {\n",
       "        vertical-align: top;\n",
       "    }\n",
       "\n",
       "    .dataframe thead th {\n",
       "        text-align: right;\n",
       "    }\n",
       "</style>\n",
       "<table border=\"1\" class=\"dataframe\">\n",
       "  <thead>\n",
       "    <tr style=\"text-align: right;\">\n",
       "      <th></th>\n",
       "      <th>location_name</th>\n",
       "      <th>rei_name</th>\n",
       "      <th>year_id</th>\n",
       "      <th>mean</th>\n",
       "      <th>median</th>\n",
       "      <th>upper</th>\n",
       "      <th>lower</th>\n",
       "    </tr>\n",
       "  </thead>\n",
       "  <tbody>\n",
       "    <tr>\n",
       "      <th>560</th>\n",
       "      <td>Albania</td>\n",
       "      <td>Ambient particulate matter pollution</td>\n",
       "      <td>1990</td>\n",
       "      <td>24.947482</td>\n",
       "      <td>23.761740</td>\n",
       "      <td>42.552035</td>\n",
       "      <td>12.283387</td>\n",
       "    </tr>\n",
       "    <tr>\n",
       "      <th>561</th>\n",
       "      <td>Albania</td>\n",
       "      <td>Ambient particulate matter pollution</td>\n",
       "      <td>1995</td>\n",
       "      <td>24.129340</td>\n",
       "      <td>23.391146</td>\n",
       "      <td>38.688391</td>\n",
       "      <td>13.244507</td>\n",
       "    </tr>\n",
       "    <tr>\n",
       "      <th>562</th>\n",
       "      <td>Albania</td>\n",
       "      <td>Ambient particulate matter pollution</td>\n",
       "      <td>2000</td>\n",
       "      <td>24.302869</td>\n",
       "      <td>23.752234</td>\n",
       "      <td>36.885735</td>\n",
       "      <td>14.896325</td>\n",
       "    </tr>\n",
       "    <tr>\n",
       "      <th>563</th>\n",
       "      <td>Albania</td>\n",
       "      <td>Ambient particulate matter pollution</td>\n",
       "      <td>2005</td>\n",
       "      <td>22.169490</td>\n",
       "      <td>21.867823</td>\n",
       "      <td>30.576744</td>\n",
       "      <td>15.756878</td>\n",
       "    </tr>\n",
       "    <tr>\n",
       "      <th>564</th>\n",
       "      <td>Albania</td>\n",
       "      <td>Ambient particulate matter pollution</td>\n",
       "      <td>2010</td>\n",
       "      <td>21.631450</td>\n",
       "      <td>21.627829</td>\n",
       "      <td>24.318940</td>\n",
       "      <td>19.076510</td>\n",
       "    </tr>\n",
       "    <tr>\n",
       "      <th>...</th>\n",
       "      <td>...</td>\n",
       "      <td>...</td>\n",
       "      <td>...</td>\n",
       "      <td>...</td>\n",
       "      <td>...</td>\n",
       "      <td>...</td>\n",
       "      <td>...</td>\n",
       "    </tr>\n",
       "    <tr>\n",
       "      <th>989</th>\n",
       "      <td>Western Europe</td>\n",
       "      <td>Ambient particulate matter pollution</td>\n",
       "      <td>2015</td>\n",
       "      <td>12.527497</td>\n",
       "      <td>12.531273</td>\n",
       "      <td>12.661905</td>\n",
       "      <td>12.384283</td>\n",
       "    </tr>\n",
       "    <tr>\n",
       "      <th>990</th>\n",
       "      <td>Western Europe</td>\n",
       "      <td>Ambient particulate matter pollution</td>\n",
       "      <td>2016</td>\n",
       "      <td>11.488999</td>\n",
       "      <td>11.489316</td>\n",
       "      <td>11.612433</td>\n",
       "      <td>11.356507</td>\n",
       "    </tr>\n",
       "    <tr>\n",
       "      <th>991</th>\n",
       "      <td>Western Europe</td>\n",
       "      <td>Ambient particulate matter pollution</td>\n",
       "      <td>2017</td>\n",
       "      <td>11.669184</td>\n",
       "      <td>11.669513</td>\n",
       "      <td>11.801195</td>\n",
       "      <td>11.544239</td>\n",
       "    </tr>\n",
       "    <tr>\n",
       "      <th>992</th>\n",
       "      <td>Western Europe</td>\n",
       "      <td>Ambient particulate matter pollution</td>\n",
       "      <td>2018</td>\n",
       "      <td>11.684120</td>\n",
       "      <td>11.683466</td>\n",
       "      <td>11.815184</td>\n",
       "      <td>11.558034</td>\n",
       "    </tr>\n",
       "    <tr>\n",
       "      <th>993</th>\n",
       "      <td>Western Europe</td>\n",
       "      <td>Ambient particulate matter pollution</td>\n",
       "      <td>2019</td>\n",
       "      <td>11.569817</td>\n",
       "      <td>11.570074</td>\n",
       "      <td>11.700678</td>\n",
       "      <td>11.444954</td>\n",
       "    </tr>\n",
       "  </tbody>\n",
       "</table>\n",
       "<p>644 rows × 7 columns</p>\n",
       "</div>"
      ],
      "text/plain": [
       "      location_name                              rei_name  year_id       mean  \\\n",
       "560         Albania  Ambient particulate matter pollution     1990  24.947482   \n",
       "561         Albania  Ambient particulate matter pollution     1995  24.129340   \n",
       "562         Albania  Ambient particulate matter pollution     2000  24.302869   \n",
       "563         Albania  Ambient particulate matter pollution     2005  22.169490   \n",
       "564         Albania  Ambient particulate matter pollution     2010  21.631450   \n",
       "..              ...                                   ...      ...        ...   \n",
       "989  Western Europe  Ambient particulate matter pollution     2015  12.527497   \n",
       "990  Western Europe  Ambient particulate matter pollution     2016  11.488999   \n",
       "991  Western Europe  Ambient particulate matter pollution     2017  11.669184   \n",
       "992  Western Europe  Ambient particulate matter pollution     2018  11.684120   \n",
       "993  Western Europe  Ambient particulate matter pollution     2019  11.569817   \n",
       "\n",
       "        median      upper      lower  \n",
       "560  23.761740  42.552035  12.283387  \n",
       "561  23.391146  38.688391  13.244507  \n",
       "562  23.752234  36.885735  14.896325  \n",
       "563  21.867823  30.576744  15.756878  \n",
       "564  21.627829  24.318940  19.076510  \n",
       "..         ...        ...        ...  \n",
       "989  12.531273  12.661905  12.384283  \n",
       "990  11.489316  11.612433  11.356507  \n",
       "991  11.669513  11.801195  11.544239  \n",
       "992  11.683466  11.815184  11.558034  \n",
       "993  11.570074  11.700678  11.444954  \n",
       "\n",
       "[644 rows x 7 columns]"
      ]
     },
     "execution_count": 47,
     "metadata": {},
     "output_type": "execute_result"
    }
   ],
   "source": [
    "pm"
   ]
  },
  {
   "cell_type": "code",
   "execution_count": 48,
   "id": "b5a82c36",
   "metadata": {},
   "outputs": [],
   "source": [
    "pm['location_name'] = pm['location_name'].str.replace('Russian Federation','Russia')\n",
    "pm['location_name'] = pm['location_name'].str.replace('Bosnia and Herzegovina','Bosnia and Herz.')"
   ]
  },
  {
   "cell_type": "code",
   "execution_count": 49,
   "id": "2377584c",
   "metadata": {},
   "outputs": [
    {
     "data": {
      "text/plain": [
       "array(['Albania', 'Andorra', 'Austria', 'Belarus', 'Belgium', 'Bulgaria',\n",
       "       'Central Europe', 'Croatia', 'Cyprus', 'Czechia', 'Denmark',\n",
       "       'Eastern Europe', 'Estonia', 'Finland', 'France', 'Germany',\n",
       "       'Greece', 'Hungary', 'Iceland', 'India', 'Ireland', 'Israel',\n",
       "       'Italy', 'Latvia', 'Lithuania', 'Luxembourg', 'Malta', 'Monaco',\n",
       "       'Montenegro', 'Netherlands', 'North Macedonia', 'Norway', 'Poland',\n",
       "       'Portugal', 'Republic of Moldova', 'Romania', 'San Marino',\n",
       "       'Serbia', 'Slovakia', 'Slovenia', 'Spain', 'Sweden', 'Switzerland',\n",
       "       'Ukraine', 'United Kingdom', 'Western Europe'], dtype=object)"
      ]
     },
     "execution_count": 49,
     "metadata": {},
     "output_type": "execute_result"
    }
   ],
   "source": [
    "pm['location_name'].unique()"
   ]
  },
  {
   "cell_type": "code",
   "execution_count": 50,
   "id": "5744210a",
   "metadata": {},
   "outputs": [],
   "source": [
    "pm.to_csv('../data/GBD19/pm/GBD_AIR_POLLUTION_1990_2019_clean.csv', index = False)"
   ]
  },
  {
   "cell_type": "code",
   "execution_count": 51,
   "id": "4f4d88c7",
   "metadata": {},
   "outputs": [],
   "source": [
    "# sns.lineplot(x = 'year_id', y = 'mean', data = pm, hue = 'location_name');"
   ]
  },
  {
   "cell_type": "markdown",
   "id": "20943def",
   "metadata": {},
   "source": [
    "# Geojson"
   ]
  },
  {
   "cell_type": "code",
   "execution_count": 52,
   "id": "def97fdf",
   "metadata": {},
   "outputs": [],
   "source": [
    "with open(\"../data/map/europe.json\", encoding='utf-8') as geo_file:\n",
    "    geo_europe = json.load(geo_file)"
   ]
  },
  {
   "cell_type": "code",
   "execution_count": 53,
   "id": "1651b8f5",
   "metadata": {},
   "outputs": [
    {
     "name": "stdout",
     "output_type": "stream",
     "text": [
      "['Albania' 'Andorra' 'Austria' 'Belarus' 'Belgium' 'Bosnia and Herz.'\n",
      " 'Bulgaria' 'Central Europe' 'Croatia' 'Cyprus' 'Czechia' 'Denmark'\n",
      " 'Eastern Europe' 'Estonia' 'Finland' 'France' 'Germany' 'Greece'\n",
      " 'Hungary' 'Iceland' 'India' 'Ireland' 'Israel' 'Italy' 'Latvia'\n",
      " 'Lithuania' 'Luxembourg' 'Malta' 'Monaco' 'Montenegro' 'Netherlands'\n",
      " 'North Macedonia' 'Norway' 'Poland' 'Portugal' 'Republic of Moldova'\n",
      " 'Romania' 'San Marino' 'Serbia' 'Slovakia' 'Slovenia' 'Spain' 'Sweden'\n",
      " 'Switzerland' 'Ukraine' 'United Kingdom' 'Western Europe']\n"
     ]
    }
   ],
   "source": [
    "print(list_countries)"
   ]
  },
  {
   "cell_type": "code",
   "execution_count": 54,
   "id": "9a12ccab",
   "metadata": {},
   "outputs": [],
   "source": [
    "geo_countries = []\n",
    "for i in range(len(geo_europe[\"features\"])):\n",
    "    geo_countries.append(geo_europe[\"features\"][i][\"properties\"][\"name\"])"
   ]
  },
  {
   "cell_type": "code",
   "execution_count": 55,
   "id": "4e8fb47b",
   "metadata": {},
   "outputs": [
    {
     "name": "stdout",
     "output_type": "stream",
     "text": [
      "['Russia', 'Kosovo', 'Liechtenstein', 'Moldova', 'Vatican', 'Jersey', 'Guernsey', 'Isle of Man', 'Åland', 'Faeroe Is.']\n"
     ]
    }
   ],
   "source": [
    "a_list = []\n",
    "for i in geo_countries:\n",
    "    if i not in list_countries:\n",
    "        a_list.append(i)\n",
    "print(a_list)"
   ]
  },
  {
   "cell_type": "code",
   "execution_count": 64,
   "id": "0792336b",
   "metadata": {},
   "outputs": [],
   "source": [
    "# #using plotly for an animated choropleth map\n",
    "# import plotly.express as px\n",
    "# fig = px.choropleth_mapbox(data_frame=pm,\n",
    "#                            geojson=geo_europe,\n",
    "#                            locations=pm.location_name,\n",
    "#                            featureidkey = 'properties.name',\n",
    "#                            color='mean',\n",
    "#                            center={'lat':55, 'lon':25},\n",
    "#                            mapbox_style='open-street-map',\n",
    "#                            zoom=2,\n",
    "#                            color_continuous_scale='sunset',\n",
    "#                            range_color=(0, 50),\n",
    "#                            animation_frame='year_id',\n",
    "#                            width=800,\n",
    "#                            height=600)\n",
    "\n",
    "# fig.show()"
   ]
  },
  {
   "cell_type": "code",
   "execution_count": 58,
   "id": "18a15041",
   "metadata": {},
   "outputs": [
    {
     "data": {
      "text/html": [
       "<div>\n",
       "<style scoped>\n",
       "    .dataframe tbody tr th:only-of-type {\n",
       "        vertical-align: middle;\n",
       "    }\n",
       "\n",
       "    .dataframe tbody tr th {\n",
       "        vertical-align: top;\n",
       "    }\n",
       "\n",
       "    .dataframe thead th {\n",
       "        text-align: right;\n",
       "    }\n",
       "</style>\n",
       "<table border=\"1\" class=\"dataframe\">\n",
       "  <thead>\n",
       "    <tr style=\"text-align: right;\">\n",
       "      <th></th>\n",
       "      <th>location_name</th>\n",
       "      <th>cause_name</th>\n",
       "      <th>metric_name</th>\n",
       "      <th>year</th>\n",
       "      <th>val</th>\n",
       "      <th>upper</th>\n",
       "      <th>lower</th>\n",
       "    </tr>\n",
       "  </thead>\n",
       "  <tbody>\n",
       "    <tr>\n",
       "      <th>168</th>\n",
       "      <td>Albania</td>\n",
       "      <td>Breast cancer</td>\n",
       "      <td>Number</td>\n",
       "      <td>1990</td>\n",
       "      <td>112.778225</td>\n",
       "      <td>122.598264</td>\n",
       "      <td>103.645504</td>\n",
       "    </tr>\n",
       "    <tr>\n",
       "      <th>169</th>\n",
       "      <td>Albania</td>\n",
       "      <td>Breast cancer</td>\n",
       "      <td>Percent</td>\n",
       "      <td>1990</td>\n",
       "      <td>0.006453</td>\n",
       "      <td>0.007027</td>\n",
       "      <td>0.005943</td>\n",
       "    </tr>\n",
       "    <tr>\n",
       "      <th>170</th>\n",
       "      <td>Albania</td>\n",
       "      <td>Breast cancer</td>\n",
       "      <td>Rate</td>\n",
       "      <td>1990</td>\n",
       "      <td>3.407278</td>\n",
       "      <td>3.703963</td>\n",
       "      <td>3.131359</td>\n",
       "    </tr>\n",
       "    <tr>\n",
       "      <th>42</th>\n",
       "      <td>Albania</td>\n",
       "      <td>Chronic obstructive pulmonary disease</td>\n",
       "      <td>Number</td>\n",
       "      <td>1990</td>\n",
       "      <td>722.546343</td>\n",
       "      <td>797.220675</td>\n",
       "      <td>483.072341</td>\n",
       "    </tr>\n",
       "    <tr>\n",
       "      <th>43</th>\n",
       "      <td>Albania</td>\n",
       "      <td>Chronic obstructive pulmonary disease</td>\n",
       "      <td>Percent</td>\n",
       "      <td>1990</td>\n",
       "      <td>0.041342</td>\n",
       "      <td>0.045766</td>\n",
       "      <td>0.027863</td>\n",
       "    </tr>\n",
       "  </tbody>\n",
       "</table>\n",
       "</div>"
      ],
      "text/plain": [
       "    location_name                             cause_name metric_name  year  \\\n",
       "168       Albania                          Breast cancer      Number  1990   \n",
       "169       Albania                          Breast cancer     Percent  1990   \n",
       "170       Albania                          Breast cancer        Rate  1990   \n",
       "42        Albania  Chronic obstructive pulmonary disease      Number  1990   \n",
       "43        Albania  Chronic obstructive pulmonary disease     Percent  1990   \n",
       "\n",
       "            val       upper       lower  \n",
       "168  112.778225  122.598264  103.645504  \n",
       "169    0.006453    0.007027    0.005943  \n",
       "170    3.407278    3.703963    3.131359  \n",
       "42   722.546343  797.220675  483.072341  \n",
       "43     0.041342    0.045766    0.027863  "
      ]
     },
     "execution_count": 58,
     "metadata": {},
     "output_type": "execute_result"
    }
   ],
   "source": [
    "disease.head()"
   ]
  },
  {
   "cell_type": "code",
   "execution_count": 63,
   "id": "47485555",
   "metadata": {},
   "outputs": [],
   "source": [
    "\n",
    "# data = disease[(disease['cause_name']=='Chronic obstructive pulmonary disease') & (disease['metric_name']=='Percent')]\n",
    "\n",
    "# fig2 = px.choropleth_mapbox(data_frame=data,\n",
    "#                            geojson=geo_europe,\n",
    "#                            locations=data.location_name,\n",
    "#                            featureidkey = 'properties.name',\n",
    "#                            color='val',\n",
    "#                            center={'lat':55, 'lon':25},\n",
    "#                            mapbox_style='open-street-map',\n",
    "#                            zoom=2,\n",
    "#                            color_continuous_scale='sunset',\n",
    "#                            range_color=(0, 0.08),\n",
    "#                            animation_frame='year',\n",
    "#                            width=800,\n",
    "#                            height=600)\n",
    "\n",
    "# fig2.show()"
   ]
  },
  {
   "cell_type": "code",
   "execution_count": null,
   "id": "24a978d6",
   "metadata": {},
   "outputs": [],
   "source": []
  }
 ],
 "metadata": {
  "kernelspec": {
   "display_name": "Python 3 (ipykernel)",
   "language": "python",
   "name": "python3"
  },
  "language_info": {
   "codemirror_mode": {
    "name": "ipython",
    "version": 3
   },
   "file_extension": ".py",
   "mimetype": "text/x-python",
   "name": "python",
   "nbconvert_exporter": "python",
   "pygments_lexer": "ipython3",
   "version": "3.9.13"
  },
  "toc": {
   "base_numbering": 1,
   "nav_menu": {},
   "number_sections": true,
   "sideBar": true,
   "skip_h1_title": false,
   "title_cell": "Table of Contents",
   "title_sidebar": "Contents",
   "toc_cell": false,
   "toc_position": {},
   "toc_section_display": true,
   "toc_window_display": false
  }
 },
 "nbformat": 4,
 "nbformat_minor": 5
}
